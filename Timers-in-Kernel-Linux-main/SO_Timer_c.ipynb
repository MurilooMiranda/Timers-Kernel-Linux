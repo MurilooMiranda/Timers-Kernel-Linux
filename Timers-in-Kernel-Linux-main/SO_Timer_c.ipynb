{
  "nbformat": 4,
  "nbformat_minor": 0,
  "metadata": {
    "colab": {
      "provenance": []
    },
    "kernelspec": {
      "name": "python3",
      "display_name": "Python 3"
    },
    "language_info": {
      "name": "python"
    }
  },
  "cells": [
    {
      "cell_type": "markdown",
      "source": [
        "**Sistemas Operacionais:** *Timers*\n",
        "\n",
        "<br>\n",
        "\n",
        " Identificação dos autores (nome e RA):\n",
        "\n",
        " Daniel dos Santos Sobrinho - 813524\n",
        "\n",
        " Laysson Santos da Silva - 800349\n",
        "\n",
        " Luiz Otávio Teixeira Mello - 811967\n",
        "\n",
        " Murilo de Miranda Silva - 812069\n",
        "<br>\n",
        "\n"
      ],
      "metadata": {
        "id": "mU4Ihy-aQiWt"
      }
    },
    {
      "cell_type": "markdown",
      "source": [
        "# **Timer**\n",
        "\n",
        "<u>**Timer**</u> é o dispositivo que um sistema operacional utiliza para realizar alguns serviços em um sistema computacional. Dentre eles, impedir que os programas do usuário fiquem presos em um loop infinito ou não chamem os serviços do sistema e nunca retorne o controle de volta para o SO\n",
        "\n",
        "<br>\n",
        "\n",
        "**A principal tarefa de um timer é interromper a CPU após um período de tempo específico**. Esse tempo é definido pelo SO e seus valores podem variar a partir de 1 ms.\n",
        "\n",
        "<br>"
      ],
      "metadata": {
        "id": "T83AkBOjSxHH"
      }
    },
    {
      "cell_type": "markdown",
      "source": [
        "# **Elementos de hardware para gerenciar o tempo**"
      ],
      "metadata": {
        "id": "55y1Q0dN0lXn"
      }
    },
    {
      "cell_type": "markdown",
      "source": [
        "### **Real-Time Clock (RTC)**\n",
        "O Real-Time Clock (RTC), também conhecido como \"Hardware Clock\", é um dispositivo eletrônico, presente na maioria dos sistemas computacionais, utilizado para marcar a passagem do tempo. São não voláteis, ou seja, é capaz de manter a hora mesmo quando o dispositivo está desligado, possuem bateria interna e funcionam baseados na oscilação de um elemento cristalino. No boot, o SO sincroniza a frequência do RTC com o System Timer (Relógio do Sistema) e utiliza este para realizar as tarefas de temporização.\n",
        "\n",
        "<br>"
      ],
      "metadata": {
        "id": "L3Ly5VMTh2BP"
      }
    },
    {
      "cell_type": "markdown",
      "source": [
        "### **System Timer**\n",
        "\n",
        "O System timer é um dispositivo utilizado para o **controle de eventos** que ocorrem periodicamente ou eventos que o kernel agenda para um ponto fixo no futuro. Ele dispara (geralmente chamado de hitting ou popping) em uma frequência pré-programada, chamada de **tick rate**. Quando o cronômetro do sistema dispara, ele emite uma interrupção que o kernel manipula por meio de um tratamento de interrupção especial.\n",
        "\n",
        "<br>\n",
        "\n",
        "Este recurso de hardware é programado para gerar interrupções a uma taxa constante. Essa taxa, dada em Hz (interrupções por segundo), é usada para incrementar uma variável interna do kernel chamada **jiffies** (será abordada posteriormente). Podemos calcular o intervalo entre interrupções causadas pelo System Timer, dividindo 1 pela taxa em Hz.\n",
        "\n",
        "<br>\n",
        "\n",
        "Entranto, em aplicações atuais, é comum que para o HZ (CONFIG_HZ) não  tenham valores fixos, gerenciando dinamicamente as interrupções de acordo com os timers pendente (<u>**Tickless OS**</u>). Reduzindo o overhead (despesas) e o consumo de energia causados por interrupções desnecessárias."
      ],
      "metadata": {
        "id": "EiovMGRFigu3"
      }
    },
    {
      "cell_type": "markdown",
      "source": [
        "> ### **Tickless Kernel**\n",
        "  O Tickeless Kernel é um modo de operação do Linux, em que os timers deixam de depender de interrupções periódicas do sistema para checar seus timeouts, e passa a implementar interrupções dinâmicas para tratá-los. Ou seja, em um sistema \"com ticks\", os timers inicializados são verificados a cada tick do sistema, enquanto que, no tickless kernel, o system timer é programado dinamicamente para gerar interrupções nos intervalos específicos dos timeouts.\n",
        ">\n",
        "> <br>\n",
        ">\n",
        ">  Por exemplo, em um sistema \"com ticks\", se o proxímo timer a expirar possui  timeout de 50ms, e os ticks ocorrem a  cada 1ms, então o sistema operacional deverá checar se o timeout ocorreu 50 vezes antes de executar a função do timer. Em um tickless kernel, o sistema operacional programa o system timer para disparar apenas no tempo do próximo timer, ou seja, após 50ms. Com isso, há uma única interrupção gerada para a execução do timer, no momento do timeout. Essas mudanças são eficazes, principalmente, para economia de energia do sistema, já que evita a execução desnecessária de verificações periódicas.\n",
        "\n",
        "<br>"
      ],
      "metadata": {
        "id": "ordEH_ULrKfo"
      }
    },
    {
      "cell_type": "code",
      "source": [
        "# Configuração para manter ticks do timer constantes e periódicos,\n",
        "# mesmo quando a CPU está ociosa.\n",
        "config HZ_PERIODIC\n",
        "\tbool \"Periodic timer ticks (constant rate, no dynticks)\"\n",
        "\thelp\n",
        "\n",
        "# Configuração para um sistema \"tickless\" durante o estado de inatividade,\n",
        "# onde as interrupções do timer só ocorrem conforme necessário,\n",
        "# ajudando a economizar energia.\n",
        "config NO_HZ_IDLE\n",
        "\tbool \"Idle dynticks system (tickless idle)\"\n",
        "\tselect NO_HZ_COMMON\n",
        "\thelp\n",
        "\n",
        "\n",
        "# Configuração para um sistema \"tickless\" completo, onde os ticks\n",
        "# do timer são desativados sempre que possível, mesmo quando a CPU\n",
        "# está executando tarefas, para maximizar a eficiência energética.\n",
        "# Requer configuração adicional através de parâmetros de boot.\n",
        "config NO_HZ_FULL\n",
        "\tbool \"Full dynticks system (tickless)\"\n",
        "\t# Configuração de dependências necessárias para NO_HZ_FULL\n",
        "\tdepends on SMP\n",
        "\tdepends on HAVE_CONTEXT_TRACKING_USER\n",
        "\tdepends on HAVE_VIRT_CPU_ACCOUNTING_GEN\n",
        "\tselect NO_HZ_COMMON\n",
        "\tselect RCU_NOCB_CPU\n",
        "\tselect VIRT_CPU_ACCOUNTING_GEN\n",
        "\tselect IRQ_WORK\n",
        "\tselect CPU_ISOLATION\n",
        "\thelp\n",
        "\n",
        "endchoice\n"
      ],
      "metadata": {
        "id": "-8s8G3zGxU6O"
      },
      "execution_count": null,
      "outputs": []
    },
    {
      "cell_type": "markdown",
      "source": [
        "<br>\n",
        "\n",
        "# **Kernel Timers**\n",
        "\n",
        "Os Kernel Timers são sistemas de timers mantidos pelo kernel e utilizados em diversas aplicações do SO. Seu funcionamento se resume a uma função que é chamada assim que um certo \"limite\" de tempo é atingido, chamado de *Timeout*.\n",
        "O timer é destruído após expirar, devido a isso timers são chamados muitas vezes de dynamic timers. Timers são constantemente criados e destruídos.\n",
        "\n",
        "Para utilizá-los, devemos incluir:  ```#include <linux/timer.h>```"
      ],
      "metadata": {
        "id": "rOH1ng7yoH6U"
      }
    },
    {
      "cell_type": "markdown",
      "source": [
        "### ***timer_list***\n",
        "Os timers do kernel Linux são definidos pela struct **timer_list**.\n",
        "Ela contém em seus campos principais uma função que é passada para ser ativada no timeout, o tempo em que o timer deve expirar e ponteiros para o anterior e próximo nós."
      ],
      "metadata": {
        "id": "-TKLy2IG9kB-"
      }
    },
    {
      "cell_type": "code",
      "source": [
        "struct timer_list {\n",
        "\n",
        "# Todos os campos que mudam durante o tempo de execução normal são agrupados no\n",
        "# mesmo cacheline\n",
        "\n",
        "\tstruct hlist_node\t\tentry; # Entrada da hash list\n",
        "\tunsigned long\t\t\t\texpires; # Tempo de expiração do timer\n",
        "\tvoid\t\t\t\t\t\t\t\t(*function)(struct timer_list *); # Usa essa mesma estrutura como argumento para a função quando chamada\n",
        "\tu32\t\t\t\t\t\t\t\t\tflags; # Flags à serem utilizados\n",
        "\n",
        "#ifdef CONFIG_LOCKDEP\n",
        "\tstruct lockdep_map\tlockdep_map; # Estrutura para rastrear bloqueios (locks) e suas dependências, ajudando a detectar problemas como deadlocks e conflitos de concorrência entre timers\n",
        "#endif\n",
        "};"
      ],
      "metadata": {
        "id": "NgBVkfYq__m3"
      },
      "execution_count": null,
      "outputs": []
    },
    {
      "cell_type": "markdown",
      "source": [
        "### **timer_base**\n",
        "\n",
        "Responsável por manter as informações sobre os timers dessa CPU, onde cada CPU tem a sua própria estrutura. Como por exemplo, se algum está executando uma função de handling (running_timer), o próximo a ser expirado (next_expiry) também terá acesso a timer wheel."
      ],
      "metadata": {
        "id": "S6tFFlwHH6VS"
      }
    },
    {
      "cell_type": "code",
      "source": [
        "struct timer_base {\n",
        "    raw_spinlock_t      lock; # Garante a sincronização no acesso\n",
        "    struct timer_list   *running_timer; # Aponta para o temporizador atualmente em execução\n",
        "    unsigned long       clk;\n",
        "    unsigned long       next_expiry; #Mais próximo de vencer\n",
        "    unsigned int        cpu;\n",
        "    bool            migration_enabled; # Indica se os temporizadores podem ser migrados entre CPUs\n",
        "    bool            nohz_active; # Indica se o nohz está ativo, que é um modo de otimização para que a CPU atue em baixa frequência quando não há tarefas imporantes a serem executadas\n",
        "    bool            is_idle; # Indica se a CPU está ociosa\n",
        "    bool            must_forward_clk; # Indica se o clk precisa ser avançado, caso o sistema tenha perdido a sincronização de tempo\n",
        "    DECLARE_BITMAP(pending_map, WHEEL_SIZE); # Usado para rastrear quais wheels têm temporizadores pendentes à expirar\n",
        "    struct hlist_head   vectors[WHEEL_SIZE]; # Cada entrada desse array é uma lista encadeada de temporizadores baseada no tempo de expiração (timeout) => implementação da timer wheel,        armazenada na timer base\n",
        "} ____cacheline_aligned;\n",
        "\n",
        "static DEFINE_PER_CPU(struct timer_base, timer_bases[NR_BASES]);  # DEFINE_PER_CPU (type, name) - Define uma struct timer_base por CPU\n",
        "                                                                  # timer_bases[NR_BASES] - Define um array de timer_base, onde cada um deles serão usados por cada CPU; NR_BASES define a quantidade de timer_base por CPU"
      ],
      "metadata": {
        "id": "KzI7-PbjIbEK"
      },
      "execution_count": null,
      "outputs": []
    },
    {
      "cell_type": "markdown",
      "source": [
        "<br>\n",
        "\n",
        "### **Timer Wheel**\n",
        "Estrutura responsável por organizar os diversos timers do SO de forma manejável e ordenada por tempo de timeout. A timer wheel consiste de um vetor circular de listas em que cada entrada representa um intervalo de tempo. Timers são alocados nessa lista baseados em qual intervalo de tempo o seu timeout se encaixa.\n",
        "A lista consiste de 8 níveis, se a frequência de interrupção for menor ou igual a 100Hz, e 9 níveis, caso contrário. Cada nível possui 64 entradas. E cada nível possui sua **granularidade** (precisão com a qual o sistema pode medir e agendar a expiração dos temporizadores em um nível específico da roda), que pode ser calculada da seguinte forma:\n",
        "\n",
        "Granularidade = (8^(num_nvl)) * (1/Hz) ms\n",
        "\n",
        "Em um exemplo de um x86(100Hz, 9 níveis), Note que:\n",
        "\n",
        "1 Hz = 1 segundo. Logo:\n",
        "\n",
        "1 / 100 = 0,01 segundos, ou seja, 10 ms. Assim:\n",
        "\n",
        "Nível 0: 64 entradas de 10((8^0)*10) ms cada.\n",
        "\n",
        "\n",
        "> 1º: 0ms - 9ms || 2º: 10 - 19ms || 3º: 20 - 29ms || ... 630ms\n",
        "\n",
        "\n",
        "\n",
        "Nível 1: 64 entradas de 80((8^1)*10) ms cada.\n",
        "\n",
        "\n",
        "> 1º: 640ms - 710ms || 2º: 720ms - 790ms || 3º: 800ms - 870ms || ... 5110ms\n",
        "\n",
        "\n",
        "\n",
        "Nível 2: 64 entradas de 640((8^2)*10) ms cada.\n",
        "\n",
        "\n",
        "> 1º: 5120ms - 5650ms || 2º: 5660ms - 6290ms || 3º: 6300ms - 6930ms || ... 40950ms\n",
        "\n",
        "\n",
        "\n",
        "Nível 3: 64 entradas de 5120((8^3)*10) ms cada.\n",
        "\n",
        "\n",
        "> 1º: 40960ms - 46070ms || 2º: 46080ms - 51190ms || 3º: 51200ms - 56310ms || ... 327670ms\n",
        "\n",
        "\n",
        "\n",
        "Nível 4: 64 entradas de 40960((8^4)*10) ms cada.\n",
        "\n",
        "\n",
        "> 1º: 327680ms - 368630ms || 2º: 368640ms - 409590ms || 3º: 409600ms - 450550ms || ... 2621430 ms\n",
        "\n",
        "\n",
        "\n",
        "Nível 5: 64 entradas de 327680((8^5)*10) ms cada.\n",
        "\n",
        "\n",
        "> 1º: 2621440ms - 2949110ms || 2º: 2949120ms - 3276790ms || 3º: 3276800ms - 3604470ms || ... 20971510 ms\n",
        "\n",
        "\n",
        "\n",
        "Nível 6: 64 entradas de 2621440((8^6)*10) ms cada.\n",
        "\n",
        "\n",
        "> 1º: 20971520ms - 23592950ms || 2º: 23592960ms - 26214390ms || 3º: 26214400ms - 28835830ms || ... 167772150 ms\n",
        "\n",
        "\n",
        "\n",
        "Nível 7: 64 entradas de 20971520((8^7)*10) ms cada.\n",
        "\n",
        "\n",
        "> 1º: 167772160ms - 188743670ms || 2º: 188743680ms - 209715190ms || 3º: 209715200ms - 230686710ms || ... 1342177270 ms\n",
        "\n",
        "A timer-wheel utiliza um sistema em que, se o timer tem tempo de expiração maior do que o limite da wheel, ele é alocado forçadamente no último nível."
      ],
      "metadata": {
        "id": "iQqZLqkvAIgU"
      }
    },
    {
      "cell_type": "markdown",
      "source": [
        "O objetivo da timer-wheel é **garantir que um temporizador não expire antes do tempo**. A expiração antecipada pode ocorrer por dois motivos:\n",
        "- O temporizador foi acionado muito próximo de um \"tick\" (momento de verificação do temporizador)\n",
        "- Truncamento do tempo de expiração ao mover o temporizador para níveis superiores da roda\n",
        "Para evitar isso, arredonda-se o tempo de expiração baseado no nível (lvl).\n",
        "\n",
        "Exemplo: Se um temporizador foi programado para expirar em 600 ms, mas ele precisa ser movido para o Nível 1, que tem uma granularidade de 80 ms, o tempo de expiração será arredondado para cima para o próximo múltiplo de 80 ms. Nesse caso, o temporizador seria ajustado para expirar em 640 ms (o próximo múltiplo de 80 ms), garantindo que ele não expire antes dos 600 ms."
      ],
      "metadata": {
        "id": "0JebX6bw9Zgx"
      }
    },
    {
      "cell_type": "code",
      "source": [
        "# Função que calcula o índice de um nível específico na timer-wheel e garante\n",
        "# que o temporizador não expire mais cedo do que deveria.\n",
        "static inline unsigned calc_index(unsigned long expires, unsigned lvl,\n",
        "\t\t\t\t  unsigned long *bucket_expiry)\n",
        "{\n",
        "\t# Ajusta o tempo de expiração de acordo com o deslocamento do nível (granularidade do nível)\n",
        "\texpires = (expires >> LVL_SHIFT(lvl)) + 1;\n",
        "\n",
        "\t# Define o tempo exato de expiração do bucket\n",
        "\t*bucket_expiry = expires << LVL_SHIFT(lvl);\n",
        "\n",
        "\t# Calcula o índice do bucket somando o deslocamento de nível (LVL_OFFS) com o valor ajustado (expires & LVL_MASK)\n",
        "\treturn LVL_OFFS(lvl) + (expires & LVL_MASK);\n",
        "}\n",
        "\n",
        "# Função que calcula em qual bucket da timer-wheel o temporizador deve ser inserido\n",
        "static int calc_wheel_index(unsigned long expires, unsigned long clk,\n",
        "\t\t\t    unsigned long *bucket_expiry)\n",
        "{\n",
        "\t# Calcula a diferença entre o tempo de expiração e o tempo atual\n",
        "\tunsigned long delta = expires - clk;\n",
        "\tunsigned int idx;\n",
        "\n",
        "\t# Verifica em qual nível da roda o temporizador deve ser colocado\n",
        "\tif (delta < LVL_START(1)) {\n",
        "\t\t# Se o delta for menor que o início do nível 1, calcula o índice no nível 0\n",
        "\t\tidx = calc_index(expires, 0, bucket_expiry);\n",
        "\t} else if (delta < LVL_START(2)) {\n",
        "\t\t# Se o delta for menor que o início do nível 2, calcula o índice no nível 1\n",
        "\t\tidx = calc_index(expires, 1, bucket_expiry);\n",
        "\t} else if (delta < LVL_START(3)) {\n",
        "\t\t# Nível 2\n",
        "\t\tidx = calc_index(expires, 2, bucket_expiry);\n",
        "\t} else if (delta < LVL_START(4)) {\n",
        "\t\t# Nível 3\n",
        "\t\tidx = calc_index(expires, 3, bucket_expiry);\n",
        "\t} else if (delta < LVL_START(5)) {\n",
        "\t\t# Nível 4\n",
        "\t\tidx = calc_index(expires, 4, bucket_expiry);\n",
        "\t} else if (delta < LVL_START(6)) {\n",
        "\t\t# Nível 5\n",
        "\t\tidx = calc_index(expires, 5, bucket_expiry);\n",
        "\t} else if (delta < LVL_START(7)) {\n",
        "\t\t# Nível 6\n",
        "\t\tidx = calc_index(expires, 6, bucket_expiry);\n",
        "\t} else if (LVL_DEPTH > 8 && delta < LVL_START(8)) {\n",
        "\t\t# Se houver mais de 8 níveis e o delta for menor que o início do nível 8, calcula o índice no nível 7\n",
        "\t\tidx = calc_index(expires, 7, bucket_expiry);\n",
        "\t} else if ((long) delta < 0) {\n",
        "\t\t# Se o delta for negativo, indica que o temporizador já expirou\n",
        "\t\t# Neste caso, o índice é o tempo atual, para que seja tratado imediatamente\n",
        "\t\tidx = clk & LVL_MASK;\n",
        "\t\t*bucket_expiry = clk;\n",
        "\t} else {\n",
        "\n",
        "\t\t# Se o delta for muito grande, garante que o temporizador seja\n",
        "\t\t# tratado dentro do limite da roda.\n",
        "\n",
        "\t\tif (delta >= WHEEL_TIMEOUT_CUTOFF)\n",
        "\t\t\texpires = clk + WHEEL_TIMEOUT_MAX;\n",
        "\n",
        "\t\t# Calcula o índice no último nível da roda\n",
        "\t\tidx = calc_index(expires, LVL_DEPTH - 1, bucket_expiry);\n",
        "\t}\n",
        "\treturn idx;\n",
        "}\n"
      ],
      "metadata": {
        "id": "WiTgHv_S69qJ"
      },
      "execution_count": null,
      "outputs": []
    },
    {
      "cell_type": "markdown",
      "source": [
        "<br>\n",
        "\n",
        "# **Funções de timers do kernel**"
      ],
      "metadata": {
        "id": "92OyPrHlKE2S"
      }
    },
    {
      "cell_type": "code",
      "source": [
        "# Podemos criar um timer da seguinte forma:\n",
        "\n",
        "struct timer_list timer;"
      ],
      "metadata": {
        "id": "LYLYIVb8rkRi"
      },
      "execution_count": null,
      "outputs": []
    },
    {
      "cell_type": "markdown",
      "source": [
        "### **timer_setup**\n",
        "\n",
        "Após criar o timer, devemos inicilizar seus valores internos.\n"
      ],
      "metadata": {
        "id": "yrR99rGDrh45"
      }
    },
    {
      "cell_type": "code",
      "source": [
        "#define timer_setup(timer, callback, flags)\n",
        "\t__init_timer((timer), (callback), (flags))\n",
        "\n",
        "\n",
        " # -> a função chamada ao final do macro é a do_init_timer, que efetivamente inicializa os valores do timer\n",
        "\n",
        "static void do_init_timer(struct timer_list *timer,\n",
        "\t\t\t  void (*func)(struct timer_list *),\n",
        "\t\t\t  unsigned int flags,\n",
        "\t\t\t  const char *name, struct lock_class_key *key)\n",
        "{\n",
        "\ttimer->entry.pprev = NULL;\n",
        "\ttimer->function = func;\n",
        "\ttimer->flags = flags | raw_smp_processor_id();\n",
        "\tlockdep_init_map(&timer->lockdep_map, name, key, 0);\n",
        "}\n"
      ],
      "metadata": {
        "id": "8sHCSt6fKVrN"
      },
      "execution_count": null,
      "outputs": []
    },
    {
      "cell_type": "markdown",
      "source": [
        "### **add_timer, mod_timer, mod_timer_pending, timer_reduce**\n"
      ],
      "metadata": {
        "id": "fAodtseWYq-y"
      }
    },
    {
      "cell_type": "code",
      "source": [
        "# função que inicializa um timer e o coloca na timer_wheel.\n",
        "# Inicia o @timer para expirar @timer->expires jiffies no futuro.\n",
        "void add_timer(struct timer_list *timer)\n",
        "{\n",
        "\tif (WARN_ON_ONCE(timer_pending(timer))) # Checagem se o @timer já está pendente. Ou seja, se ele já foi inicializado\n",
        "\t\treturn;\n",
        "\t__mod_timer(timer, timer->expires, MOD_TIMER_NOTPENDING);\n",
        "}\n",
        "\n",
        "# modifica o tempo de expiração do timer\n",
        "int mod_timer(struct timer_list *timer, unsigned long expires)\n",
        "{\n",
        "\treturn __mod_timer(timer, expires, 0);\n",
        "}\n",
        "\n",
        "# função parecida com mod_timer, mas só muda o tempo de expiração de timers pendentes\n",
        "int mod_timer_pending(struct timer_list *timer, unsigned long expires)\n",
        "{\n",
        "\treturn __mod_timer(timer, expires, MOD_TIMER_PENDING_ONLY);\n",
        "}\n",
        "\n",
        "# modifica o tempo de expiração do timer, mas funciona apenas para diminuir o tempo e não aumentar\n",
        "int timer_reduce(struct timer_list *timer, unsigned long expires)\n",
        "{\n",
        "\treturn __mod_timer(timer, expires, MOD_TIMER_REDUCE);\n",
        "}\n",
        "\n",
        "'''\n",
        "TODAS essas funções são wrappers de __mod_timer()\n",
        "'''"
      ],
      "metadata": {
        "id": "568Qvo4Ypw8o"
      },
      "execution_count": null,
      "outputs": []
    },
    {
      "cell_type": "code",
      "source": [
        "\n",
        "static inline int\n",
        "__mod_timer(struct timer_list *timer, unsigned long expires, unsigned int options)\n",
        "{\n",
        "\tunsigned long clk = 0, flags, bucket_expiry;\n",
        "\tstruct timer_base *base, *new_base;\n",
        "\tunsigned int idx = UINT_MAX;\n",
        "\tint ret = 0;\n",
        "\n",
        "\tdebug_assert_init(timer);\n",
        "\n",
        "\tif (!(options & MOD_TIMER_NOTPENDING) && timer_pending(timer)) { # Identifica se o timer está pendente ou não. Caso esteja, entra na condição\n",
        "\n",
        "\t\tlong diff = timer->expires - expires;\n",
        "\t\t# Otimização para timers que a expiração aumentou e se estabeleceu no mesmo tempo.\n",
        "\t\t# Eficiente principalmente com códigos de rede que param timers o tempo todo.\n",
        "\t\tif (!diff)\n",
        "\t\t\treturn 1;\n",
        "\t\tif (options & MOD_TIMER_REDUCE && diff <= 0)\n",
        "\t\t\treturn 1;\n",
        "\n",
        "\t\tbase = lock_timer_base(timer, &flags); # bloqueia a timer_base do timer para que não haja alterações em outros timers enquanto a mudança neste aconteça\n",
        "\n",
        "\t\tif (!timer->function) # Identificando se o timer ainda funciona\n",
        "\t\t\tgoto out_unlock;\n",
        "\n",
        "\t\tforward_timer_base(base);\n",
        "\n",
        "\t\tif (timer_pending(timer) && (options & MOD_TIMER_REDUCE) &&\n",
        "\t\t    time_before_eq(timer->expires, expires)) {\n",
        "\t\t\tret = 1;\n",
        "\t\t\tgoto out_unlock;\n",
        "\t\t}\n",
        "\n",
        "\t\tclk = base->clk;\n",
        "\n",
        "\t\tidx = calc_wheel_index(expires, clk, &bucket_expiry); # Re-cálculo do bucket da timer_wheel que faz parte\n",
        "\t\tif (idx == timer_get_idx(timer)) { # Verificação se o indice do timer na wheel é o mesmo de antes da alteração de tempo\n",
        "\t\t\tif (!(options & MOD_TIMER_REDUCE))\n",
        "\t\t\t\ttimer->expires = expires;\n",
        "\t\t\telse if (time_after(timer->expires, expires))\n",
        "\t\t\t\ttimer->expires = expires;\n",
        "\t\t\tret = 1;\n",
        "\t\t\tgoto out_unlock;\n",
        "\t\t}\n",
        "\n",
        "\t} else {\n",
        "\t\tbase = lock_timer_base(timer, &flags);\n",
        "\n",
        "\t\tif (!timer->function) # Identificando se o timer ainda funciona\n",
        "\t\t\tgoto out_unlock;\n",
        "\n",
        "\t\tforward_timer_base(base);\n",
        "\t}\n",
        "\n",
        "\tret = detach_if_pending(timer, base, false);\n",
        "\tif (!ret && (options & MOD_TIMER_PENDING_ONLY)) # Verificação se estava pendente. Se estiver ele é desativado\n",
        "\t\tgoto out_unlock;\n",
        "\n",
        "  # Próximas linhas se referem a mudança de timer_base, caso o timer mude para outra CPU\n",
        "\tnew_base = get_target_base(base, timer->flags);\n",
        "\n",
        "\tif (base != new_base) {\n",
        "\n",
        "\t\tif (likely(base->running_timer != timer)) {\n",
        "\t\t\t/* See the comment in lock_timer_base() */\n",
        "\t\t\ttimer->flags |= TIMER_MIGRATING;\n",
        "\n",
        "\t\t\traw_spin_unlock(&base->lock);\n",
        "\t\t\tbase = new_base;\n",
        "\t\t\traw_spin_lock(&base->lock);\n",
        "\t\t\tWRITE_ONCE(timer->flags,\n",
        "\t\t\t\t   (timer->flags & ~TIMER_BASEMASK) | base->cpu);\n",
        "\t\t\tforward_timer_base(base);\n",
        "\t\t}\n",
        "\t}\n",
        "\n",
        "\tdebug_timer_activate(timer);\n",
        "\n",
        "\ttimer->expires = expires;\n",
        "\n",
        "\t# Condicional para cálcular a posição na timer_wheel\n",
        "\tif (idx != UINT_MAX && clk == base->clk)\n",
        "\t\tenqueue_timer(base, timer, idx, bucket_expiry);\n",
        "\telse\n",
        "\t\tinternal_add_timer(base, timer);\n",
        "\n",
        "out_unlock:\n",
        "\traw_spin_unlock_irqrestore(&base->lock, flags);\n",
        "\n",
        "\treturn ret;\n",
        "}"
      ],
      "metadata": {
        "id": "78ahBMwQJKLz"
      },
      "execution_count": null,
      "outputs": []
    },
    {
      "cell_type": "markdown",
      "source": [
        "### **del_timer**\n",
        "\n",
        "- Desativa um timer"
      ],
      "metadata": {
        "id": "TXMzyV_FV1qC"
      }
    },
    {
      "cell_type": "code",
      "source": [
        "/**\n",
        " * del_timer - deactivate a timer.\n",
        " * @timer: the timer to be deactivated\n",
        " *\n",
        " * del_timer() deactivates a timer - this works on both active and inactive\n",
        " * timers.\n",
        " *\n",
        " * The function returns whether it has deactivated a pending timer or not.\n",
        " * (ie. del_timer() of an inactive timer returns 0, del_timer() of an\n",
        " * active timer returns 1.)\n",
        " */\n",
        "# Função para desativar o timer\n",
        "int del_timer(struct timer_list *timer)\n",
        "{\n",
        "\tstruct timer_base *base;\n",
        "\tunsigned long flags;\n",
        "\tint ret = 0;\n",
        "\n",
        "\tdebug_assert_init(timer);\n",
        "\n",
        "\tif (timer_pending(timer)) { # detecta se o timer está pendente\n",
        "\t\tbase = lock_timer_base(timer, &flags); # Bloqueia a timer_base\n",
        "\t\tret = detach_if_pending(timer, base, true); # Desanexa o timer da timer_base\n",
        "\t\traw_spin_unlock_irqrestore(&base->lock, flags); # Libera um Spinlock\n",
        "\t}\n",
        "\n",
        "\treturn ret;\n",
        "}"
      ],
      "metadata": {
        "id": "Fzw51a8JWJSS"
      },
      "execution_count": null,
      "outputs": []
    },
    {
      "cell_type": "markdown",
      "source": [
        "<br>\n",
        "\n",
        "# **Gerenciamento de Timers**"
      ],
      "metadata": {
        "id": "fJW_nbp7iXfb"
      }
    },
    {
      "cell_type": "markdown",
      "source": [
        "### **Jiffies**\n",
        "\n",
        "[Jiffies](https://elixir.bootlin.com/linux/latest/source/include/linux/jiffies.h#L80) é uma variável global que o sistema operacional utiliza para monitorar a passagem do tempo. No momento da inicialização do sistema, essa variável começa em 0 e é incrementada cada vez que ocorre uma interrupção de timer.\n",
        "\n",
        "O tempo de funcionamento do sistema (***system uptime***) em segundos pode ser calculado dividindo o valor atual de jiffies pela taxa de interrupção do timer (jiffies/HZ).\n",
        "\n",
        "<br>\n",
        "\n",
        "O **tempo limite de um timer** é definido em termos de jiffies. A função associada ao timer será executada quando o valor de jiffies for igual ou superior ao tempo limite. Esse tempo limite é um valor absoluto, normalmente calculado adicionando o atraso desejado ao valor atual de jiffies.\n",
        "A variável é declarada no cabeçalho: **`<linux/jiffies.h>`**.\n",
        "<br>\n",
        "\n"
      ],
      "metadata": {
        "id": "mTeYnmLOf264"
      }
    },
    {
      "cell_type": "markdown",
      "source": [
        "### Modo Ticking (com ticks)\n",
        "No modo **ticking**, o kernel gera interrupções periódicas em intervalos fixos, chamadas de \"ticks\", geralmente várias vezes por segundo. A cada tick, o sistema atualiza o contador de tempo (`jiffies`), agenda tarefas, gerencia timers e executa outras funções de manutenção. Esse método é simples e garante que as tarefas sejam verificadas e executadas regularmente, mas pode desperdiçar recursos quando o sistema está ocioso, pois os ticks continuam ocorrendo independentemente da carga.\n",
        "\n",
        "### Modo Tickless\n",
        "No modo **tickless**, o kernel desativa os ticks periódicos quando o sistema está ocioso ou com pouca carga, evitando interrupções desnecessárias. Em vez de gerar ticks constantes, o kernel agendará interrupções apenas quando houver eventos programados, como a expiração de um timer. Isso reduz o consumo de energia e melhora a eficiência, especialmente em sistemas com workloads intermitentes ou dispositivos móveis, ao permitir períodos mais longos de inatividade."
      ],
      "metadata": {
        "id": "ukPEWC4T0cyf"
      }
    },
    {
      "cell_type": "markdown",
      "source": [
        "<br>\n",
        "\n",
        "###**Timer Interrupt Handler**\n",
        "É a rotina do kernel destinada a tratar as interrupções do System Timer. Realiza alguns trabalhos essenciais que devem ser feitos a cada tick do sistema, como incremento dos Jiffies, salva o wall time(tempo real), chamar outras rotinas independentes de arquitetura como, no caso do Linux, [tick_periodic()](https://elixir.bootlin.com/linux/latest/source/kernel/time/tick-common.c#L85).\n"
      ],
      "metadata": {
        "id": "LULu6wzFrOfd"
      }
    },
    {
      "cell_type": "code",
      "source": [
        "void tick_handle_periodic(struct clock_event_device *dev)\n",
        "{\n",
        "    int cpu = smp_processor_id();  # Obtém o ID da CPU atual\n",
        "    ktime_t next = dev->next_event; # Armazena o tempo do próximo evento de clock configurado\n",
        "\n",
        "    tick_periodic(cpu); # Executa o processamento do tick periódico para a CPU atual\n",
        "\n",
        "    # Se o sistema está configurado para operar em modo \"tickless\" (CONFIG_TICK_ONESHOT) e o handler\n",
        "    # de eventos não é tick_handle_periodic, então não há necessidade de continuar\n",
        "    if (IS_ENABLED(CONFIG_TICK_ONESHOT) && dev->event_handler != tick_handle_periodic)\n",
        "        return;\n",
        "\n",
        "    # Verifica se o dispositivo de clock está no estado \"one-shot\"\n",
        "    if (!clockevent_state_oneshot(dev))\n",
        "        return;\n",
        "\n",
        "    # Loop para programar o próximo evento de timer\n",
        "    for (;;) {\n",
        "        next = ktime_add_ns(next, TICK_NSEC); # Calcula o próximo evento de clock adicionando TICK_NSEC ao tempo atual\n",
        "\n",
        "        # Programa o próximo evento de timer; se a programação for bem-sucedida, sai da função\n",
        "        if (!clockevents_program_event(dev, next, false))\n",
        "            return;\n",
        "\n",
        "        # Verifica se o timekeeping (controle de tempo de alta resolução) está válido\n",
        "        # Se sim, executa novamente o processamento de tick periódico\n",
        "        if (timekeeping_valid_for_hres())\n",
        "            tick_periodic(cpu);\n",
        "    }\n",
        "}\n"
      ],
      "metadata": {
        "id": "vQcwi466KzlL"
      },
      "execution_count": null,
      "outputs": []
    },
    {
      "cell_type": "code",
      "source": [
        "static void tick_periodic(int cpu)\n",
        "{\n",
        "\t# Verifica se a CPU atual é responsável por gerenciar o temporizador do sistema\n",
        "\tif (READ_ONCE(tick_do_timer_cpu) == cpu) {\n",
        "\t\t# Bloqueia o acesso ao contador de \"jiffies\" para evitar condições de corrida\n",
        "\t\traw_spin_lock(&jiffies_lock);\n",
        "\t\twrite_seqcount_begin(&jiffies_seq);\n",
        "\n",
        "\t\t# Atualiza o próximo evento de tick\n",
        "\t\ttick_next_period = ktime_add_ns(tick_next_period, TICK_NSEC);\n",
        "\n",
        "\t\t# Incrementa o contador de tempo do kernel\n",
        "\t\tdo_timer(1);\n",
        "\n",
        "\t\t# Finaliza a atualização segura de \"jiffies\" e libera o bloqueio\n",
        "\t\twrite_seqcount_end(&jiffies_seq);\n",
        "\t\traw_spin_unlock(&jiffies_lock);\n",
        "\n",
        "\t\t# Atualiza o tempo do relógio do sistema\n",
        "\t\tupdate_wall_time();\n",
        "\t}\n",
        "\n",
        "\tupdate_process_times(user_mode(get_irq_regs()));\n",
        "\n",
        "\t# Realiza a contagem de perfil de CPU para monitoramento e análise de desempenho\n",
        "\tprofile_tick(CPU_PROFILING);\n",
        "}\n"
      ],
      "metadata": {
        "id": "aSKChr2JxUaA"
      },
      "execution_count": null,
      "outputs": []
    },
    {
      "cell_type": "code",
      "source": [
        "# Função do_timer incrementa o jiffies\n",
        "\n",
        "void do_timer(unsigned long ticks)\n",
        "{\n",
        "\tjiffies_64 += ticks; # Incrementa jiffies\n",
        "\tcalc_global_load(); # updates the system’s load average statistics\n",
        "}"
      ],
      "metadata": {
        "id": "RO4sizOHIgop"
      },
      "execution_count": null,
      "outputs": []
    },
    {
      "cell_type": "markdown",
      "source": [
        "O código abaixo trata interrupções de timer em sistemas configurados para operar em modo tickless. Ele executa tarefas periódicas somente quando necessário, economizando recursos e melhorando a eficiência energética. A função verifica o estado dos registros de interrupção, executa tarefas de manutenção do tempo, e determina se o timer deve ser reiniciado ou parado."
      ],
      "metadata": {
        "id": "Jg6cR1ivQpJa"
      }
    },
    {
      "cell_type": "code",
      "source": [
        "static enum hrtimer_restart tick_nohz_handler(struct hrtimer *timer)\n",
        "{\n",
        "    # Obtém o ponteiro para a estrutura 'tick_sched' a partir do timer que disparou.\n",
        "    struct tick_sched *ts = container_of(timer, struct tick_sched, sched_timer);\n",
        "\n",
        "    # Recupera os registros do processador no momento da interrupção.\n",
        "    struct pt_regs *regs = get_irq_regs();\n",
        "\n",
        "    # Obtém o tempo atual em \"ktime\" (um tipo específico usado para manipulação de tempo no kernel).\n",
        "    ktime_t now = ktime_get();\n",
        "\n",
        "    # Executa a função para manutenção do tempo e agendamento de ticks no modo tickless.\n",
        "    tick_sched_do_timer(ts, now);\n",
        "\n",
        "    # Se os registros de interrupção estiverem disponíveis, trata o tick no modo tickless.\n",
        "    # Caso contrário, define o próximo tick para 0.\n",
        "    if (regs)\n",
        "        tick_sched_handle(ts, regs);\n",
        "    else\n",
        "        ts->next_tick = 0;\n",
        "\n",
        "    # Se a flag TS_FLAG_STOPPED estiver marcada, indica que o timer deve parar.\n",
        "    if (unlikely(tick_sched_flag_test(ts, TS_FLAG_STOPPED)))\n",
        "        return HRTIMER_NORESTART;  # Não reinicia o timer de alta resolução\n",
        "\n",
        "    # Avança o timer para o próximo intervalo de tempo (TICK_NSEC).\n",
        "    hrtimer_forward(timer, now, TICK_NSEC);\n",
        "\n",
        "    # Retorna para reiniciar o timer de alta resolução.\n",
        "    return HRTIMER_RESTART;\n",
        "}\n"
      ],
      "metadata": {
        "id": "HcMqfDmUOxVz"
      },
      "execution_count": null,
      "outputs": []
    },
    {
      "cell_type": "code",
      "source": [
        "static void tick_sched_do_timer(struct tick_sched *ts, ktime_t now)\n",
        "{\n",
        "\tint tick_cpu, cpu = smp_processor_id(); # Obtém o ID da CPU atual\n",
        "\n",
        "\ttick_cpu = READ_ONCE(tick_do_timer_cpu); # Lê a CPU responsável pela atualização do timer\n",
        "\n",
        "\t# Verifica se a configuração \"NO_HZ_COMMON\" está habilitada e se nenhuma CPU é responsável pela atualização\n",
        "\tif (IS_ENABLED(CONFIG_NO_HZ_COMMON) && unlikely(tick_cpu == TICK_DO_TIMER_NONE)) {\n",
        "#ifdef CONFIG_NO_HZ_FULL\n",
        "\t\tWARN_ON_ONCE(tick_nohz_full_running); # Gera um aviso se \"tick_nohz_full_running\" estiver ativo no modo \"NO_HZ_FULL\"\n",
        "#endif\n",
        "\t\tWRITE_ONCE(tick_do_timer_cpu, cpu); # Define a CPU atual como responsável pela atualização\n",
        "\t\ttick_cpu = cpu; # Atualiza a variável com a CPU atual\n",
        "\t}\n",
        "\n",
        "\t# Se a CPU atual for a responsável pela atualização do timer, atualiza o jiffies (contador de tempo)\n",
        "\tif (tick_cpu == cpu)\n",
        "\t\ttick_do_update_jiffies64(now);\n",
        "\n",
        "\t# Verifica se o jiffies foi atualizado desde o último tick\n",
        "\tif (ts->last_tick_jiffies != jiffies) {\n",
        "\t\tts->stalled_jiffies = 0; # Reinicializa o contador de jiffies estagnados\n",
        "\t\tts->last_tick_jiffies = READ_ONCE(jiffies); # Atualiza o último valor de jiffies\n",
        "\t} else {\n",
        "\t\tif (++ts->stalled_jiffies == MAX_STALLED_JIFFIES) { # Incrementa o contador e verifica se atingiu o máximo\n",
        "\t\t\ttick_do_update_jiffies64(now); # Força uma atualização de jiffies\n",
        "\t\t\tts->stalled_jiffies = 0; # Reinicializa o contador de jiffies estagnados\n",
        "\t\t\tts->last_tick_jiffies = READ_ONCE(jiffies); # Atualiza o último valor de jiffies\n",
        "\t\t}\n",
        "\t}\n",
        "\n",
        "\t# Se o sistema está em estado de idle, marca que recebeu um tick enquanto estava ocioso\n",
        "\tif (tick_sched_flag_test(ts, TS_FLAG_INIDLE))\n",
        "\t\tts->got_idle_tick = 1;\n",
        "}\n"
      ],
      "metadata": {
        "id": "TtfWGULcDsXg"
      },
      "execution_count": null,
      "outputs": []
    },
    {
      "cell_type": "markdown",
      "source": [
        "### **Como o kernel sabe quando um time expirou?**"
      ],
      "metadata": {
        "id": "NbI7lW2Xy369"
      }
    },
    {
      "cell_type": "code",
      "source": [
        "# update_process_times: função chamada periodicamente pelo manipulador de interrupção de timer\n",
        "\n",
        "# Soma os tempos do processo (tempo de usuário e tempo de sistema)\n",
        "# Executa as funções dos timers da CPU corrente que expiraram\n",
        "\n",
        "# bottom-halves: mecanismo criado para que o manipulador de interrupção (interrupt handler)\n",
        "# faça o mínimo de trabalho possível e retorne rapidamente\n",
        "\n",
        "\n",
        "void update_process_times(int user_tick)\n",
        "{\n",
        "\tstruct task_struct *p = current; # Obtém a estrutura de dados do processo atual em execução\n",
        "\n",
        "\t# Contabiliza o tempo de CPU gasto pelo processo atual, considerando se o tempo é de usuário ou de sistema\n",
        "\taccount_process_tick(p, user_tick);\n",
        "\n",
        "\t# Executa timers locais da CPU que atingiram o tempo de expiração (executa o \"bottom-half\" TIMER_SOFTIRQ)\n",
        "\trun_local_timers();\n",
        "\n",
        "\t# Atualiza o relógio de agendamento do RCU (Read-Copy-Update) para garantir que a contagem de tempo do RCU esteja correta\n",
        "\trcu_sched_clock_irq(user_tick);\n",
        "\n",
        "#ifdef CONFIG_IRQ_WORK\n",
        "\t# Se estamos dentro de um contexto de interrupção, executa trabalhos de interrupção pendentes\n",
        "\tif (in_irq())\n",
        "\t\tirq_work_tick();\n",
        "#endif\n",
        "\n",
        "\t# Atualiza o agendador de processos, chamado periodicamente para fazer decisões de agendamento\n",
        "\tscheduler_tick();\n",
        "\n",
        "\t# Se o suporte a temporizadores POSIX estiver habilitado, executa os temporizadores POSIX da CPU\n",
        "\tif (IS_ENABLED(CONFIG_POSIX_TIMERS))\n",
        "\t\trun_posix_cpu_timers();\n",
        "}\n",
        "\n",
        "#run_local_timers()\n",
        "\n",
        "# Verifica se há timers expirados e levanta a interrupção TIMER_SOFTIRQ se necessário,\n",
        "# para ser tratada pela função run_timer_softirq()\n",
        "\n",
        "static void run_local_timers(void)\n",
        "{\n",
        "\tstruct timer_base *base = this_cpu_ptr(&timer_bases[BASE_STD]); # Obtém a base de timers da CPU atual\n",
        "\n",
        "\thrtimer_run_queues(); # Executa timers de HR que expiraram\n",
        "\n",
        "\t# Verifica se o próximo timer a expirar está antes de jiffies (tempo atual)\n",
        "\t# Levanta a interrupção TIMER_SOFTIRQ somente se necessário\n",
        "\tif (time_before(jiffies, base->next_expiry)) {\n",
        "\t\tif (!IS_ENABLED(CONFIG_NO_HZ_COMMON))\n",
        "\t\t\treturn;\n",
        "\t\t# Verifica a base de timers adiáveis (deferrable) se a CPU está ativa\n",
        "\t\tbase++;\n",
        "\t\tif (time_before(jiffies, base->next_expiry))\n",
        "\t\t\treturn;\n",
        "\t}\n",
        "\traise_softirq(TIMER_SOFTIRQ); # Levanta a interrupção TIMER_SOFTIRQ se houver timers a expirar\n",
        "}"
      ],
      "metadata": {
        "id": "paNUaotqzDOw",
        "colab": {
          "base_uri": "https://localhost:8080/",
          "height": 106
        },
        "collapsed": true,
        "outputId": "c805bd0a-f833-4021-baeb-d6079b617342"
      },
      "execution_count": null,
      "outputs": [
        {
          "output_type": "error",
          "ename": "SyntaxError",
          "evalue": "invalid syntax (<ipython-input-1-c9b7f4ae998b>, line 10)",
          "traceback": [
            "\u001b[0;36m  File \u001b[0;32m\"<ipython-input-1-c9b7f4ae998b>\"\u001b[0;36m, line \u001b[0;32m10\u001b[0m\n\u001b[0;31m    void update_process_times(int user_tick)\u001b[0m\n\u001b[0m         ^\u001b[0m\n\u001b[0;31mSyntaxError\u001b[0m\u001b[0;31m:\u001b[0m invalid syntax\n"
          ]
        }
      ]
    },
    {
      "cell_type": "markdown",
      "source": [
        "Já no modo tickless, o HRtimer sabe quando expira utilizando um loop de verificação no tempo de interrupção de alta resolução, comparando continuamente o tempo atual com os tempos de expiração definidos dos temporizadores ativos.\n",
        "A função hrtimer_interrupt é chamada pelo manipulador de interrupções do dispositivo de eventos de clock configurado para o kernel, que dispara interrupções de alta resolução."
      ],
      "metadata": {
        "id": "P-cD7hldimvJ"
      }
    },
    {
      "cell_type": "code",
      "source": [
        "void hrtimer_interrupt(struct clock_event_device *dev)\n",
        "{\n",
        "    # Obtém a base de temporizadores de alta resolução para a CPU atual\n",
        "    struct hrtimer_cpu_base *cpu_base = this_cpu_ptr(&hrtimer_bases);\n",
        "    # Variáveis para controlar o próximo evento de expiração, o tempo atual, tempo de entrada e delta\n",
        "    ktime_t expires_next, now, entry_time, delta;\n",
        "    unsigned long flags; # Variável para armazenar flags de interrupção\n",
        "    int retries = 0; # Contador de tentativas de reprogramação\n",
        "\n",
        "    # Verifica se o temporizador de alta resolução está ativo\n",
        "    BUG_ON(!cpu_base->hres_active);\n",
        "    # Incrementa o número de eventos de temporizador\n",
        "    cpu_base->nr_events++;\n",
        "    # Define o próximo evento de clock para o maior valor possível\n",
        "    dev->next_event = KTIME_MAX;\n",
        "\n",
        "    # Bloqueia o spinlock e salva o estado de interrupção\n",
        "    raw_spin_lock_irqsave(&cpu_base->lock, flags);\n",
        "    # Atualiza a base de tempo do temporizador e armazena o tempo atual e de entrada\n",
        "    entry_time = now = hrtimer_update_base(cpu_base);\n",
        "\n",
        "retry:\n",
        "    cpu_base->in_hrtirq = 1; # Marca que estamos dentro do contexto de interrupção do temporizador\n",
        "    cpu_base->expires_next = KTIME_MAX; # Define a próxima expiração como o valor máximo de tempo\n",
        "\n",
        "    # Verifica se é hora de ativar o softirq do HRTIMER\n",
        "    if (!ktime_before(now, cpu_base->softirq_expires_next)) {\n",
        "        cpu_base->softirq_expires_next = KTIME_MAX; # Redefine o próximo evento do softirq\n",
        "        cpu_base->softirq_activated = 1; # Marca o softirq como ativado\n",
        "        raise_softirq_irqoff(HRTIMER_SOFTIRQ); # Levanta a interrupção softirq do temporizador\n",
        "    }\n",
        "\n",
        "    # é responsável por verificar e executar todos os high-resolution timers (hrtimers)\n",
        "    # que estão programados e cuja expiração já ocorreu. Ela percorre as filas de hrtimers da CPU\n",
        "    # e executa suas callbacks associadas, garantindo que as ações programadas para o momento certo sejam disparadas corretamente.\n",
        "    __hrtimer_run_queues(cpu_base, now, flags, HRTIMER_ACTIVE_HARD);\n",
        "\n",
        "    # Atualiza o próximo evento de expiração do temporizador\n",
        "    expires_next = hrtimer_update_next_event(cpu_base);\n",
        "    # Define a próxima expiração de eventos do temporizador\n",
        "    cpu_base->expires_next = expires_next;\n",
        "    # Marca que não está mais no contexto de interrupção do temporizador\n",
        "    cpu_base->in_hrtirq = 0;\n",
        "    # Libera o spinlock e restaura o estado de interrupção\n",
        "    raw_spin_unlock_irqrestore(&cpu_base->lock, flags);\n",
        "\n",
        "    # Programa o próximo evento de tick; se bem-sucedido, não há necessidade de novas tentativas\n",
        "    if (!tick_program_event(expires_next, 0)) {\n",
        "        cpu_base->hang_detected = 0; # Indica que nenhum problema de atraso foi detectado\n",
        "        return; # Saída, pois o evento foi programado corretamente\n",
        "    }\n",
        "\n",
        "    # Caso o evento não seja programado corretamente, tenta novamente\n",
        "    raw_spin_lock_irqsave(&cpu_base->lock, flags);\n",
        "    now = hrtimer_update_base(cpu_base); # Atualiza novamente a base de tempo\n",
        "    cpu_base->nr_retries++; # Incrementa o contador de tentativas de reprogramação\n",
        "    if (++retries < 3) # Tenta reprogramar até 3 vezes\n",
        "        goto retry; # Se falhar, volta para tentar de novo\n",
        "\n",
        "    # Se todas as tentativas falharem, marca um hang e contabiliza o número de hangs\n",
        "    cpu_base->nr_hangs++;\n",
        "    cpu_base->hang_detected = 1;\n",
        "    raw_spin_unlock_irqrestore(&cpu_base->lock, flags);\n",
        "\n",
        "    # Calcula o tempo de execução da interrupção\n",
        "    delta = ktime_sub(now, entry_time);\n",
        "    # Atualiza o tempo máximo de atraso se o tempo atual for maior\n",
        "    if ((unsigned int)delta > cpu_base->max_hang_time)\n",
        "        cpu_base->max_hang_time = (unsigned int) delta;\n",
        "\n",
        "    # Se o delta de tempo for muito grande, programa o próximo evento de tick com um limite superior\n",
        "    if (delta > 100 * NSEC_PER_MSEC)\n",
        "        expires_next = ktime_add_ns(now, 100 * NSEC_PER_MSEC);\n",
        "    else\n",
        "        expires_next = ktime_add(now, delta);\n",
        "\n",
        "    # Reprograma o próximo evento de tick\n",
        "    tick_program_event(expires_next, 1);\n",
        "    # Gera um aviso indicando o tempo de execução da interrupção\n",
        "    pr_warn_once(\"hrtimer: interrupt took %llu ns\\n\", ktime_to_ns(delta));\n",
        "}\n"
      ],
      "metadata": {
        "id": "Z3ro2SBbiiKX"
      },
      "execution_count": null,
      "outputs": []
    },
    {
      "cell_type": "markdown",
      "source": [
        "<br>\n",
        "\n",
        "### **Como o kernel sabe oque executar quando os timers expiram?**"
      ],
      "metadata": {
        "id": "nPRkXLwI85NQ"
      }
    },
    {
      "cell_type": "markdown",
      "source": [
        "**RUN TIMER SOFTIRQ**"
      ],
      "metadata": {
        "id": "Oi_HM36jGyDZ"
      }
    },
    {
      "cell_type": "code",
      "source": [
        "# run_timer_softirq: Handler para a interrupção TIMER_SOFTIRQ, responsável por chamar __run_timers\n",
        "\n",
        "static __latent_entropy void run_timer_softirq(struct softirq_action *h)\n",
        "{\n",
        "\tstruct timer_base *base = this_cpu_ptr(&timer_bases[BASE_STD]);\n",
        "\n",
        "\t__run_timers(base); # Executa timers da base padrão\n",
        "\tif (IS_ENABLED(CONFIG_NO_HZ_COMMON))\n",
        "\t\t__run_timers(this_cpu_ptr(&timer_bases[BASE_DEF])); # Executa timers da base adiável, se configurado\n",
        "}\n",
        "\n",
        "# __run_timers: Função que verifica e executa todos os timers expirados na CPU atual\n",
        "\n",
        "\n",
        "#__run_timers - Executa todos os timers expirados (se houver) nesta CPU.\n",
        "#@base: a base de timers a ser processada.\n",
        "\n",
        "static inline void __run_timers(struct timer_base *base)\n",
        "{\n",
        "\tstruct hlist_head heads[LVL_DEPTH];\n",
        "\tint levels;\n",
        "\n",
        "\t# Verifica se ainda há tempo antes do próximo timer expirar\n",
        "\tif (time_before(jiffies, base->next_expiry))\n",
        "\t\treturn;\n",
        "\n",
        "\ttimer_base_lock_expiry(base); # Bloqueia o acesso à base de timers para evitar condições de corrida\n",
        "\traw_spin_lock_irq(&base->lock);\n",
        "\n",
        "\t# Encontra todos os timers da CPU que precisam ser executados\n",
        "\twhile (time_after_eq(jiffies, base->clk) &&\n",
        "\t       time_after_eq(jiffies, base->next_expiry)) {\n",
        "\t\tlevels = collect_expired_timers(base, heads); # Coleta timers que expiraram\n",
        "\n",
        "\t\t# Verifica se há timers expirados para processar\n",
        "\t\tWARN_ON_ONCE(!levels && !base->next_expiry_recalc\n",
        "\t\t\t     && base->timers_pending);\n",
        "\t\tbase->clk++;\n",
        "\t\tbase->next_expiry = __next_timer_interrupt(base); # Calcula o próximo timer a expirar\n",
        "\n",
        "\t\t# Executa as funções associadas a cada timer expirado\n",
        "\t\twhile (levels--)\n",
        "\t\t\texpire_timers(base, heads + levels); # Executa as funções dos timers pendentes\n",
        "\t}\n",
        "\traw_spin_unlock_irq(&base->lock); # Libera o bloqueio da base de timers\n",
        "\ttimer_base_unlock_expiry(base); # Desbloqueia a base de timers\n",
        "}\n",
        "\n",
        "# expire_timers: Executa as funções associadas aos timers que expiraram\n",
        "\n",
        "static void expire_timers(struct timer_base *base, struct hlist_head *head)\n",
        "{\n",
        "\t# Armazena o valor de clk anterior para fins de rastreamento\n",
        "\tunsigned long baseclk = base->clk - 1;\n",
        "\n",
        "\t# Percorre a lista de todos os timers expirados\n",
        "\twhile (!hlist_empty(head)) {\n",
        "\t\tstruct timer_list *timer;\n",
        "\t\tvoid (*fn)(struct timer_list *);\n",
        "\n",
        "\t\ttimer = hlist_entry(head->first, struct timer_list, entry); # Pega o próximo timer a expirar\n",
        "\n",
        "\t\tbase->running_timer = timer; # Marca o timer atual como em execução\n",
        "\t\tdetach_timer(timer, true); # Remove o timer da lista de timers pendentes\n",
        "\n",
        "\t\tfn = timer->function; # Obtém a função associada ao timer\n",
        "\n",
        "\t\t# Verifica se a função é válida\n",
        "\t\tif (WARN_ON_ONCE(!fn)) {\n",
        "\t\t\tbase->running_timer = NULL;\n",
        "\t\t\tcontinue;\n",
        "\t\t}\n",
        "\n",
        "\t\t# Executa a função do timer no contexto apropriado\n",
        "\t\tif (timer->flags & TIMER_IRQSAFE) {\n",
        "\t\t\traw_spin_unlock(&base->lock);\n",
        "\t\t\tcall_timer_fn(timer, fn, baseclk); # Chama a função do timer\n",
        "\t\t\traw_spin_lock(&base->lock);\n",
        "\t\t\tbase->running_timer = NULL; # Marca que nenhum timer está em execução\n",
        "\t\t} else {\n",
        "\t\t\traw_spin_unlock_irq(&base->lock);\n",
        "\t\t\tcall_timer_fn(timer, fn, baseclk);\n",
        "\t\t\traw_spin_lock_irq(&base->lock);\n",
        "\t\t\tbase->running_timer = NULL;\n",
        "\t\t\ttimer_sync_wait_running(base); # Sincroniza após execução do timer\n",
        "\t\t}\n",
        "\t}\n",
        "}\n"
      ],
      "metadata": {
        "id": "50u34-El27sT"
      },
      "execution_count": null,
      "outputs": []
    },
    {
      "cell_type": "markdown",
      "source": [
        "<br>\n",
        "\n",
        "# **High-Resolution Timers**\n",
        "\n",
        "Os chamados high-resolution timers ou hrtimers são estruturas separadas dos convencionais timers dinâmicos do kernel. OS hrtimers possuem maior precisão na marcação do expire time, já que ao invés de utilizar jiffies como base para sua contagem, eles utilizam a variável ktime_t que guarda o tempo em nanossegundos em um tamanho de 64 bits.\n",
        "A [struct hrtimer](https://elixir.bootlin.com/linux/latest/source/include/linux/hrtimer.h#L118) é definida como:"
      ],
      "metadata": {
        "id": "yyVM3IMY3GJO"
      }
    },
    {
      "cell_type": "code",
      "source": [
        "struct hrtimer {\n",
        "\tstruct timerqueue_node\t\tnode; # enfileirar o hrtimer em uma fila de timers\n",
        "\tktime_t\t\t\t\t_softexpires; # tempo em nanossegundos (soft interrupt)\n",
        "\tenum hrtimer_restart\t\t(*function)(struct hrtimer *); # função callback (reiniciar ou não)\n",
        "\tstruct hrtimer_clock_base\t*base; # base de tempo do hrtimer\n",
        "\tu8\t\t\t\tstate; # ativo, expirado, desarmado\n",
        "\tu8\t\t\t\tis_rel; # timer relativo (após um intervalo) ou absoluto (tempo específico)\n",
        "\tu8\t\t\t\tis_soft; # soft timer, pode ser processado fora de uma interrupção de hardware estrita\n",
        "\tu8\t\t\t\tis_hard; # hard timer, processado com urgência\n",
        "};"
      ],
      "metadata": {
        "id": "y2dDIYqM4VQT"
      },
      "execution_count": null,
      "outputs": []
    },
    {
      "cell_type": "markdown",
      "source": [
        "Os hrtimers não utilizam a timer_wheel como estrutura para organização dos eventos, já que a definição da timer_wheel não suporta a precisão necessária para os hrtimers(apesar de ser uma possível vantagem para uma grande parte das aplicações dos timeouts, que não necessitam de tamanha granularidade).\n",
        "Como alternativa, eles utilizam uma red-black tree para realizar a ordenação dos timers por tempo de expiração."
      ],
      "metadata": {
        "id": "0wyxTPLS4ZxJ"
      }
    },
    {
      "cell_type": "code",
      "source": [
        "struct hrtimer_cpu_base {\n",
        "\traw_spinlock_t\t\t\tlock;\n",
        "\tunsigned int\t\t\tcpu;\n",
        "\tunsigned int\t\t\tactive_bases;\n",
        "\tunsigned int\t\t\tclock_was_set_seq;\n",
        "\tunsigned int\t\t\thres_active\t\t: 1,\n",
        "\t\t\t\t\tin_hrtirq\t\t: 1,\n",
        "\t\t\t\t\thang_detected\t\t: 1,\n",
        "\t\t\t\t\tsoftirq_activated       : 1,\n",
        "\t\t\t\t\tonline\t\t\t: 1;\n",
        "#ifdef CONFIG_HIGH_RES_TIMERS\n",
        "\tunsigned int\t\t\tnr_events;\n",
        "\tunsigned short\t\t\tnr_retries;\n",
        "\tunsigned short\t\t\tnr_hangs;\n",
        "\tunsigned int\t\t\tmax_hang_time;\n",
        "#endif\n",
        "#ifdef CONFIG_PREEMPT_RT\n",
        "\tspinlock_t\t\t\tsoftirq_expiry_lock;\n",
        "\tatomic_t\t\t\ttimer_waiters;\n",
        "#endif\n",
        "\tktime_t\t\t\t\texpires_next;\n",
        "\tstruct hrtimer\t\t\t*next_timer;\n",
        "\tktime_t\t\t\t\tsoftirq_expires_next;\n",
        "\tstruct hrtimer\t\t\t*softirq_next_timer;\n",
        "\tstruct hrtimer_clock_base\tclock_base[HRTIMER_MAX_CLOCK_BASES];\n",
        "} ____cacheline_aligned;\n"
      ],
      "metadata": {
        "id": "I-lJ9g9Cyekz"
      },
      "execution_count": null,
      "outputs": []
    },
    {
      "cell_type": "markdown",
      "source": [
        "A struct [hrtimer_cpu_base](https://elixir.bootlin.com/linux/v6.10.10/source/include/linux/hrtimer_defs.h#L103) são parecidos com a struct timer_base. Cada CPU terá sua própria hrtimer_cpu_base, que contém informações importantes sobre os hrtimers que estão pendentes neste processador, como por exemplo o nó cabeça da árvore rubro negra time_queue."
      ],
      "metadata": {
        "id": "xOBHE39tynaM"
      }
    },
    {
      "cell_type": "markdown",
      "source": [
        "o mecanismo usado para temporizar os hrtimers em nanossegundos se chama clockevent. Cada CPU tem o seu próprio dispositivo de temporização de alta resolução. É nele que o kernel seta o tempo em nanossegundos para disparar a interrupção."
      ],
      "metadata": {
        "id": "H8DTkQKV1LZc"
      }
    },
    {
      "cell_type": "markdown",
      "source": [
        "### **Funções para manipulação de hrtimers**\n"
      ],
      "metadata": {
        "id": "eDAsoZEv5P3B"
      }
    },
    {
      "cell_type": "markdown",
      "source": [
        "O primeiro passo para utilizar um hrtimer é inicializá-lo com a função [hrtimer_init()](https://elixir.bootlin.com/linux/latest/source/kernel/time/hrtimer.c#L1589). Nela, são definidos o timer, o modo de clock e modo do timer(one-shot ou periódico)."
      ],
      "metadata": {
        "id": "ximdQObX5UoX"
      }
    },
    {
      "cell_type": "code",
      "source": [
        "void hrtimer_init(struct hrtimer *timer, clockid_t clock_id,\n",
        "\t\t  enum hrtimer_mode mode) # clock MONOTIC, REALTIME, BOOTTIME\n",
        "{\n",
        "\tdebug_init(timer, clock_id, mode);\n",
        "\t__hrtimer_init(timer, clock_id, mode);\n",
        "}"
      ],
      "metadata": {
        "id": "7D2N5pWC6N1D"
      },
      "execution_count": null,
      "outputs": []
    },
    {
      "cell_type": "markdown",
      "source": [
        "Após a inicialização, o hrtimer deve ser ativado pela função [hrtimer_start()](https://elixir.bootlin.com/linux/latest/source/include/linux/hrtimer.h#L415). Essa função atribui o tempo de expiração."
      ],
      "metadata": {
        "id": "A51f4Zxf6rXB"
      }
    },
    {
      "cell_type": "code",
      "source": [
        "static inline void hrtimer_start(struct hrtimer *timer, ktime_t tim,\n",
        "\t\t\t\t const enum hrtimer_mode mode)\n",
        "{\n",
        "\thrtimer_start_range_ns(timer, tim, 0, mode); # disparar com uma faixa de tolerância = 0, ou seja, disparar no valor de tim\n",
        "}"
      ],
      "metadata": {
        "id": "X3C0Ye2z9y1-"
      },
      "execution_count": null,
      "outputs": []
    },
    {
      "cell_type": "markdown",
      "source": [
        "Para cancelar o funcionamento de um timer, as funções [hrtimer_cancel()](https://elixir.bootlin.com/linux/latest/source/kernel/time/hrtimer.c#L1438) e [hrtimer_try_cancel()](https://elixir.bootlin.com/linux/latest/source/kernel/time/hrtimer.c#L1316)). A primeira tenta cancelar o timer e, se a função definida para o timer já tiver sido iniciada, ela espera sua conclusão. A segunda faz algo semelhante, porém se a função já tiver sido iniciada, ela retorna erro."
      ],
      "metadata": {
        "id": "Pa_OUmVRDNa3"
      }
    },
    {
      "cell_type": "code",
      "source": [
        "int hrtimer_cancel(struct hrtimer *timer)\n",
        "{\n",
        "\tint ret;\n",
        "\n",
        "\tdo {\n",
        "\t\tret = hrtimer_try_to_cancel(timer);\n",
        "\n",
        "\t\tif (ret < 0) # temporizador em execução\n",
        "\t\t\thrtimer_cancel_wait_running(timer);\n",
        "\t} while (ret < 0);\n",
        "\treturn ret; # sucesso = ret >= 0\n",
        "}"
      ],
      "metadata": {
        "id": "pEHn3iIyFXc0"
      },
      "execution_count": null,
      "outputs": []
    },
    {
      "cell_type": "code",
      "source": [
        "int hrtimer_try_to_cancel(struct hrtimer *timer)\n",
        "{\n",
        "    struct hrtimer_clock_base *base;\n",
        "    unsigned long flags; # estado das interrupções no sistema\n",
        "    int ret = -1;\n",
        "\n",
        "    # Verifique primeiro sem bloqueio (lock). Se o temporizador não estiver ativo (nem\n",
        "    # enfileirado nem executando o retorno de chamada) nada a fazer aqui.\n",
        "\n",
        "    if (!hrtimer_active(timer)) # temporizador não está ativado\n",
        "        return 0;\n",
        "\n",
        "    base = lock_hrtimer_base(timer, &flags); # obtém o lock para garantir que não haverá condições de corrida com outras operações\n",
        "\n",
        "    if (!hrtimer_callback_running(timer)) # Se o callback não está em execução\n",
        "        ret = remove_hrtimer(timer, base, false, false); # remove da fila de temporizadores, retornando 1\n",
        "\n",
        "    unlock_hrtimer_base(timer, &flags); # Libera o lock na base do temporizador e restaura o estado das interrupções\n",
        "\n",
        "    return ret;\n",
        "\n",
        "}"
      ],
      "metadata": {
        "id": "teOfW0OHFUtr"
      },
      "execution_count": null,
      "outputs": []
    },
    {
      "cell_type": "markdown",
      "source": [
        "<br>\n",
        "\n",
        "# **Chamadas de sistema para a suspensão de um processo por um tempo**"
      ],
      "metadata": {
        "id": "jlDcnZWvh61y"
      }
    },
    {
      "cell_type": "markdown",
      "source": [
        "### **nanosleep()**\n",
        "\n",
        "A chamada de sistema [nanosleep() ](https://man7.org/linux/man-pages/man2/nanosleep.2.html) suspende a execução da thread corrente por determinado nanosegundos."
      ],
      "metadata": {
        "id": "6Rh7xWdfZbNg"
      }
    },
    {
      "cell_type": "code",
      "source": [
        "SYSCALL_DEFINE2(nanosleep, struct __kernel_timespec __user *, rqtp,\n",
        "        struct __kernel_timespec __user *, rmtp) # tempo de suspensão e tempo restante, respectivamente\n",
        "{\n",
        "    struct timespec64 tu; # armazenar o tempo em uma representação de 64 bits\n",
        "\n",
        "    if (get_timespec64(&tu, rqtp)) # converte o tempo especificado por rqtp do espaço do usuário para a estrutura timespec64\n",
        "        return -EFAULT;\n",
        "\n",
        "    if (!timespec64_valid(&tu)) # Verifica se a estrutura timespec64 resultante é válida\n",
        "        return -EINVAL;\n",
        "\n",
        "    current->restart_block.fn = do_no_restart_syscall; # Indica que não deve ser reiniciada se for interrompida por um sinal\n",
        "    current->restart_block.nanosleep.type = rmtp ? TT_NATIVE : TT_NONE; # Verifica se há necessidade de reiniciar a syscall ou não\n",
        "    current->restart_block.nanosleep.rmtp = rmtp;\n",
        "    return hrtimer_nanosleep(timespec64_to_ktime(tu), HRTIMER_MODE_REL,\n",
        "                 CLOCK_MONOTONIC); # Chama a função do relógio de alta precisão, com ktime, modo de timer relativo e relógio monotônico\n",
        "}"
      ],
      "metadata": {
        "id": "f9IEYAHgZ7M7"
      },
      "execution_count": null,
      "outputs": []
    },
    {
      "cell_type": "markdown",
      "source": [
        "A função [hrtimer_nanosleep](https://https://elixir.bootlin.com/linux/v6.10.10/source/kernel/time/hrtimer.c#L2069) suspende a execução de uma tarefa por um período de tempo preciso usando hrtimers. Ela configura o temporizador, suspende a tarefa, lida com interrupções (reiniciando a suspensão para temporizadores relativos, mas não para absolutos), e finalmente libera os recursos. Ela é usada para garantir temporização exata em sistemas que requerem alta precisão."
      ],
      "metadata": {
        "id": "ke05o-Iy61Qv"
      }
    },
    {
      "cell_type": "code",
      "source": [
        "long hrtimer_nanosleep(ktime_t rqtp, const enum hrtimer_mode mode,\n",
        "                       const clockid_t clockid)\n",
        "{\n",
        "    struct restart_block *restart;  # Gerencia reinício de operações interrompidas\n",
        "    struct hrtimer_sleeper t;       # Contém o hrtimer e dados de suspensão\n",
        "    int ret = 0;\n",
        "    u64 slack;\n",
        "\n",
        "    # Obtém o slack para a tarefa atual\n",
        "    slack = current->timer_slack_ns;\n",
        "    if (rt_task(current))\n",
        "        slack = 0;\n",
        "\n",
        "    # Inicializa o hrtimer\n",
        "    hrtimer_init_sleeper_on_stack(&t, clockid, mode);\n",
        "    hrtimer_set_expires_range_ns(&t.timer, rqtp, slack);\n",
        "\n",
        "    # O processo efetivamente é colocado para dormir\n",
        "    ret = do_nanosleep(&t, mode);\n",
        "\n",
        "    if (ret != -ERESTART_RESTARTBLOCK)\n",
        "        goto out;\n",
        "\n",
        "    if (mode == HRTIMER_MODE_ABS) {\n",
        "        ret = -ERESTARTNOHAND;\n",
        "        goto out;\n",
        "    }\n",
        "\n",
        "    # Prepara a reinicialização se interrompido\n",
        "    restart = &current->restart_block;\n",
        "    restart->nanosleep.clockid = t.timer.base->clockid;\n",
        "    restart->nanosleep.expires = hrtimer_get_expires_tv64(&t.timer);\n",
        "    set_restart_fn(restart, hrtimer_nanosleep_restart);\n",
        "\n",
        "out:\n",
        "    destroy_hrtimer_on_stack(&t.timer);\n",
        "    return ret;\n",
        "}"
      ],
      "metadata": {
        "id": "raaKuwFT5Mzz"
      },
      "execution_count": null,
      "outputs": []
    },
    {
      "cell_type": "markdown",
      "source": [
        "### **Como o valor do nanosleep() entra na Lista de Timers (hrtimer_base)**:\n",
        "\n",
        "- O valor do tempo passado para nanosleep() é convertido internamente para ktime_t (com timespec64_to_ktime(tu)).\n",
        "- Esse valor é então passado para a função hrtimer_start() dentro da implementação do hrtimer_nanosleep(), especificamente ao retornar [do_nanosleep](https://elixir.bootlin.com/linux/v6.10.10/source/kernel/time/hrtimer.c#L2021).\n",
        "- Dentro do hrtimer_start(), o temporizador é configurado com o tempo de expiração, o modo de operação (relativo, no caso de HRTIMER_MODE_REL), e o relógio (como CLOCK_MONOTONIC).\n",
        "- O temporizador é efetivamente adicionado à hrtimer_base pela função [enqueue_hrtimer](https:elixir.bootlin.com/linux/v6.10.10/source/kernel/time/hrtimer.c#L1081), presente dentro de [__hrtimer_start_range_ns](https://elixir.bootlin.com/linux/v6.10.10/source/kernel/time/hrtimer.c#L1214). Assim, este timer fica esperando para ser acionado e realizar sua ação pré-definida.\n",
        "- O kernel usa mecanismos como o interrupt handler (manipulador de interrupções) para verificar os temporizadores que estão prontos para serem processados.\n",
        "- Quando o temporizador do nanosleep() expira, o kernel acorda o processo que estava em sono e remove da lista de temporizadores."
      ],
      "metadata": {
        "id": "rgNZ3i01Inua"
      }
    },
    {
      "cell_type": "markdown",
      "source": [
        "### **usleep()**\n",
        "\n",
        "A função [usleep()](https://codebrowser.dev/glibc/glibc/sysdeps/posix/usleep.c.html) ocasiona a dormência (bloqueio) do processo por **pelo menos** um número especificado de microsegundos. O sistema operacional somente garante que o processo irá retornar algum tempo após o parâmetro especificado. Não há garantias de quanto tempo depois de expirado o tempo definido na chamada ocorrerá o retorno da chamada.\n",
        "\n",
        "Um processo em dormência pode também ser desbloqueado por um sinal. Se um sinal é recebido antes que o tempo especificado tenha expirado, a função usleep() retornará um valor correspondente ao tanto de tempo que resta do período de dormência.\n",
        "\n",
        "<br>"
      ],
      "metadata": {
        "id": "T6DwyUGLbuDR"
      }
    },
    {
      "cell_type": "code",
      "source": [
        "int usleep(useconds_t usec)\n",
        "{\n",
        "\tstruct timespec ts = { # conversão de microsegundos para segundos e nanossegundos\n",
        "\t\t.tv_sec = usec / 1000000,\n",
        "\t\t.tv_nsec = (usec % 1000000) * 1000,\n",
        "\t};\n",
        "\n",
        "\treturn syscall(__NR_nanosleep, &ts, NULL); # Chama a nanosleep, pois utiliza hrtimers\n",
        "}"
      ],
      "metadata": {
        "id": "-KJ2p8vHaw3W"
      },
      "execution_count": null,
      "outputs": []
    },
    {
      "cell_type": "markdown",
      "source": [
        "### **alarm()**\n",
        "\n",
        "- Chamada de sistema que envia um sinal SIGALRM para um processo em determinado tempo\n",
        "\n",
        "- Implementação: sys_alarm() -> alarm_setitimer() -> do_setitimer() -> hrtimer_start()\n",
        "\n",
        "- Configura um alarme baseado em tempo real que dispara um sinal SIGALRM após o tempo configurado. Se houver um alarme anterior, retorna o tempo restante desse alarme."
      ],
      "metadata": {
        "id": "dGb8xM6MZu9Y"
      }
    },
    {
      "cell_type": "code",
      "source": [
        "asmlinkage unsigned long sys_alarm(unsigned int seconds) # Configura um alarme que usa o temporizador real.\n",
        "{\n",
        "    return alarm_setitimer(seconds);\n",
        "}\n",
        "\n",
        "unsigned int alarm_setitimer(unsigned int seconds) # Configura o temporizador e retorna o tempo restante do alarme anterior.\n",
        "{\n",
        "    struct itimerval it_new, it_old; # definir o alarme\n",
        "\n",
        "#if BITS_PER_LONG < 64\n",
        "    if (seconds > INT_MAX) # garantir que seconds seja 32 bits\n",
        "        seconds = INT_MAX;\n",
        "#endif\n",
        "    it_new.it_value.tv_sec = seconds; # tempo em segundos até o alarme\n",
        "    it_new.it_value.tv_usec = 0; # tempo em microssegundos até o alarme\n",
        "    it_new.it_interval.tv_sec = it_new.it_interval.tv_usec = 0; # define o intervalo entre alarmes. Definido 0, único alarme\n",
        "\n",
        "    do_setitimer(ITIMER_REAL, &it_new, &it_old); # definir o temporizador real, ou seja, quando o temporizador expira, um sinal SIGALRM é enviado ao processo.\n",
        "\n",
        "    # Não podemos retornar 0 se tivermos um alarme pendente,\n",
        "    # dando a impressão de que não havia nenhum alarme ativo ou pendente anteriormente\n",
        "\n",
        "    if ((!it_old.it_value.tv_sec && it_old.it_value.tv_usec) ||\n",
        "          it_old.it_value.tv_usec >= 500000)\n",
        "        it_old.it_value.tv_sec++; # ajusta o valor do alarme antigo (it_old.it_value)\n",
        "                                                            # para garantir que o retorno do tempo restante (seconds)\n",
        "                                                            # seja um pouco mais alto do que o tempo restante real.\n",
        "                                                            # Esse ajuste é importante para evitar que o sistema\n",
        "                                                            # informe erroneamente que o alarme anterior já expirou completamente\n",
        "\n",
        "    return it_old.it_value.tv_sec; # Retorna o tempo restante antes que o alarme atual expire.\n",
        "}\n",
        "\n",
        "int do_setitimer(int which, struct itimerval *value, struct itimerval *ovalue) # Configura o temporizador com base no tipo especificado e lida com a reinicialização\n",
        "{\n",
        "    struct task_struct *tsk = current; # Processo corrente\n",
        "    struct hrtimer *timer; # Ponteiro para o relogio de alta precisao\n",
        "    ktime_t expires; # Tempo de expiração do intervalo\n",
        "    cputime_t cval, cinterval, nval, ninterval;\n",
        "\n",
        "\n",
        "    # Validação dos valores de tempo\n",
        "\n",
        "    if (!timeval_valid(&value->it_value) ||\n",
        "        !timeval_valid(&value->it_interval))\n",
        "        return -EINVAL;\n",
        "\n",
        "\n",
        "    # ITIMER_REAL: é enviado um SIGALARM para o processo a partir do wall-clock time\n",
        "\n",
        "    # ITIMER_VIRTUAL: envia um sinal SIGVTALRM (mede o tempo de CPU gasto pelo processo em execução.)\n",
        "                                        #   para o processo depois que ele foi executado pelo tempo passado\n",
        "                    #   como parâmetro (apenas o tempo efetivo que ele foi executado conta)\n",
        "\n",
        "    # ITIMER_PROF: envia um sinal SIGPROF depois de o tempo especificado passar, ou seja, conta o tempo de CPU do processo e o tempo gasto em sistema.\n",
        "\n",
        "\n",
        "    switch (which) { # Indica o tipo de temporizador\n",
        "    case ITIMER_REAL:\n",
        "again:\n",
        "        spin_lock_irq(&tsk->sighand->siglock); # Bloqueia o acesso aos sinais do processo para garantir consistência durante a configuração.\n",
        "        timer = &tsk->signal->real_timer; # Pega o temporizador real associado ao processo atual.\n",
        "        if (ovalue) { # Se não for NULL, será preenchida com o valor anterior do temporizador.\n",
        "            ovalue->it_value = itimer_get_remtime(timer); # Obtém o tempo restante do temporizador anterior.\n",
        "            ovalue->it_interval # Intervalo do temporizador anterior.\n",
        "                = ktime_to_timeval(tsk->signal->it_real_incr);\n",
        "        }\n",
        "        /* We are sharing ->siglock with it_real_fn() */\n",
        "        if (hrtimer_try_to_cancel(timer) < 0) { # Se o temporizador não puder ser cancelado, desbloqueia e tenta novamente.\n",
        "            spin_unlock_irq(&tsk->sighand->siglock);\n",
        "            goto again;\n",
        "        }\n",
        "        expires = timeval_to_ktime(value->it_value); # Converte o valor do tempo para um formato interno (ktime_t).\n",
        "        if (expires.tv64 != 0) { # Se o tempo especificado não for zero, inicia o temporizador com o novo valor.\n",
        "            tsk->signal->it_real_incr = timeval_to_ktime(value->it_interval); # Define o intervalo do temporizador.\n",
        "            hrtimer_start(timer, expires, HRTIMER_MODE_REL);  # inserção do temporizador na lista de eventos do kernel\n",
        "                                                              # expire --> indica o tempo relativo\n",
        "                                                              # HRTIMER_MODE_REL --> o temporizador começa a contar a partir do momento atual\n",
        "                                                              # e expira após um período de tempo futuro\n",
        "        } else\n",
        "            tsk->signal->it_real_incr.tv64 = 0; # Se o tempo for zero, define o incremento do temporizador como zero.\n",
        "\n",
        "        spin_unlock_irq(&tsk->sighand->siglock); # Desbloqueia o acesso aos sinais do processo.\n",
        "        break;\n",
        "    case ITIMER_VIRTUAL:\n",
        "        nval = timeval_to_cputime(&value->it_value); # Converte o valor de tempo para o formato de tempo de CPU.\n",
        "        ninterval = timeval_to_cputime(&value->it_interval); # Converte o intervalo do temporizador para tempo de CPU.\n",
        "        read_lock(&tasklist_lock); # Bloqueia a lista de tarefas para garantir que os dados não mudem.\n",
        "        spin_lock_irq(&tsk->sighand->siglock); # Bloqueia o acesso aos sinais.\n",
        "        cval = tsk->signal->it_virt_expires; # Obtém o tempo de expiração do temporizador virtual anterior.\n",
        "        cinterval = tsk->signal->it_virt_incr; # Obtém o intervalo do temporizador anterior.\n",
        "        if (!cputime_eq(cval, cputime_zero) ||\n",
        "            !cputime_eq(nval, cputime_zero)) { # Se o valor anterior ou o novo valor não for zero, ajusta o temporizador virtual.\n",
        "            if (cputime_gt(nval, cputime_zero))\n",
        "                nval = cputime_add(nval,\n",
        "                           jiffies_to_cputime(1)); # Adiciona um pequeno incremento ao valor.\n",
        "            set_process_cpu_timer(tsk, CPUCLOCK_VIRT, # Configura o temporizador virtual do processo.\n",
        "                          &nval, &cval);\n",
        "        }\n",
        "        tsk->signal->it_virt_expires = nval; # Define o novo tempo de expiração.\n",
        "        tsk->signal->it_virt_incr = ninterval; # Define o novo intervalo.\n",
        "        spin_unlock_irq(&tsk->sighand->siglock); # Desbloqueia o acesso aos sinais.\n",
        "        read_unlock(&tasklist_lock); # Desbloqueia a lista de tarefas.\n",
        "        if (ovalue) { # Se 'ovalue' não for nulo, salva o valor anterior do temporizador.\n",
        "            cputime_to_timeval(cval, &ovalue->it_value);\n",
        "            cputime_to_timeval(cinterval, &ovalue->it_interval);\n",
        "        }\n",
        "        break;\n",
        "    case ITIMER_PROF:\n",
        "        nval = timeval_to_cputime(&value->it_value); # Converte o valor do temporizador para tempo de CPU.\n",
        "        ninterval = timeval_to_cputime(&value->it_interval); # Converte o intervalo do temporizador.\n",
        "        read_lock(&tasklist_lock); # Bloqueia a lista de tarefas.\n",
        "        spin_lock_irq(&tsk->sighand->siglock); # Bloqueia o acesso aos sinais.\n",
        "        cval = tsk->signal->it_prof_expires; # Obtém o tempo de expiração do temporizador profiler anterior.\n",
        "        cinterval = tsk->signal->it_prof_incr; # Obtém o intervalo do temporizador profiler anterior.\n",
        "        if (!cputime_eq(cval, cputime_zero) ||\n",
        "            !cputime_eq(nval, cputime_zero)) { # Se o valor anterior ou o novo valor não for zero, ajusta o temporizador profiler.\n",
        "            if (cputime_gt(nval, cputime_zero))\n",
        "                nval = cputime_add(nval,\n",
        "                           jiffies_to_cputime(1)); # Adiciona um pequeno incremento ao valor.\n",
        "            set_process_cpu_timer(tsk, CPUCLOCK_PROF,\n",
        "                          &nval, &cval); # Configura o temporizador profiler do processo.\n",
        "        }\n",
        "        tsk->signal->it_prof_expires = nval; # Define o novo tempo de expiração.\n",
        "        tsk->signal->it_prof_incr = ninterval; # Define o novo intervalo.\n",
        "        spin_unlock_irq(&tsk->sighand->siglock); # Desbloqueia o acesso aos sinais.\n",
        "        read_unlock(&tasklist_lock); # Desbloqueia a lista de tarefas.\n",
        "        if (ovalue) {  # Se 'ovalue' não for nulo, salva o valor anterior do temporizador.\n",
        "            cputime_to_timeval(cval, &ovalue->it_value);\n",
        "            cputime_to_timeval(cinterval, &ovalue->it_interval);\n",
        "        }\n",
        "        break;\n",
        "    default:\n",
        "        return -EINVAL;\n",
        "    }\n",
        "    return 0;\n",
        "}"
      ],
      "metadata": {
        "id": "QUhDcMDsd34-"
      },
      "execution_count": null,
      "outputs": []
    },
    {
      "cell_type": "markdown",
      "source": [
        "### **Como a chamada de sistema alarm() interage com as listas de temporização**:\n",
        "- A chamada alarm(seconds) configura um temporizador que vai expirar após um número específico de segundos e enviará um sinal SIGALRM ao processo quando o tempo expirar.\n",
        "- Internamente, essa chamada invoca a função setitimer(ITIMER_REAL, ...) para configurar um temporizador do tipo ITIMER_REAL.\n",
        "- A implementação detalhada é feita pela função do_setitimer(), que interage diretamente com a timer base do kernel para inserir o temporizador na lista de temporização. Essa interação ocorre quando chama-se a função hrtimer_start(timer, expires, HRTIMER_MODE_REL) na linha 76 do código acima.\n",
        "- O temporizador é inserido na timer base, uma estrutura responsável por manter as informações sobre os timers dessa CPU. O kernel usa uma timer wheel para organizar e agendar temporizadores baseados em ticks de tempo. Isso ajuda a agendar eventos futuros (neste caso, o envio de um sinal SIGALRM quando o tempo se esgota).\n",
        "-  Essa lista é gerenciada internamente pelo kernel para rastrear eventos de temporização e garantir que eles sejam processados no momento correto.\n",
        "- O temporizador é configurado com um modo relativo (HRTIMER_MODE_REL), o que significa que ele expira após um intervalo de tempo definido a partir do momento da sua criação.\n",
        "- Quando o tempo especificado pelo usuário termina, a função de callback associada ao temporizador envia um sinal SIGALRM ao processo, interrompendo-o para notificar que um determinado intervalo de tempo terminou."
      ],
      "metadata": {
        "id": "cnCKededYH_o"
      }
    },
    {
      "cell_type": "markdown",
      "source": [
        "<br>\n",
        "\n",
        "### ***Referências***\n",
        "\n",
        "\n",
        "[Linux Elixir (bootlin)](https://elixir.bootlin.com/linux/latest/source) <br>\n",
        "\n",
        "[Gerenciamento de Timers](http://www2.comp.ufscar.br/mediawiki/index.php/Gerenciamento_de_Timers) <br>\n",
        "\n",
        "[Timers and lists in the 2.6 kernel (IBM)](https://developer.ibm.com/tutorials/l-timers-list/) <br>\n",
        "\n",
        "[Using Kernel Timer In Linux Device Driver (EmbeTronicX)](https://embetronicx.com/tutorials/linux/device-drivers/using-kernel-timer-in-linux-device-driver/) <br>\n",
        "\n",
        "[Linux Kernel Development](https://www.doc-developpement-durable.org/file/Projets-informatiques/cours-&-manuels-informatiques/Linux/Linux%20Kernel%20Development,%203rd%20Edition.pdf) <br>\n",
        "\n"
      ],
      "metadata": {
        "id": "WatDQkVr_-fk"
      }
    }
  ]
}